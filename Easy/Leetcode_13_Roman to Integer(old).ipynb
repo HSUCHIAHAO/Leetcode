{
 "cells": [
  {
   "cell_type": "code",
   "execution_count": 23,
   "metadata": {},
   "outputs": [],
   "source": [
    "class Solution(object):\n",
    "    def romanToInt(self, s):\n",
    "        \"\"\"\n",
    "        :type s: str\n",
    "        :rtype: int\n",
    "        \"\"\"\n",
    "        a=s.count('I')\n",
    "        b=s.count('V')\n",
    "        c=s.count('X')\n",
    "        d=s.count('L')\n",
    "        e=s.count('C')\n",
    "        f=s.count('D')\n",
    "        g=s.count('M')\n",
    "        \n",
    "        h=s.count('IV')\n",
    "        i=s.count('IX')\n",
    "        j=s.count('XL')\n",
    "        k=s.count('XC')\n",
    "        l=s.count('CD')\n",
    "        m=s.count('CM')\n",
    "        \n",
    "        total=a+b*5+c*10+d*50+e*100+f*500+g*1000+h*(-2)+i*(-2)+j*(-20)+k*(-20)+l*(-200)+m*(-200)\n",
    "        \n",
    "        if total<1 & total>3999:\n",
    "            return False\n",
    "        if total <4000:\n",
    "            return total"
   ]
  },
  {
   "cell_type": "code",
   "execution_count": 24,
   "metadata": {},
   "outputs": [
    {
     "name": "stdout",
     "output_type": "stream",
     "text": [
      "1994\n"
     ]
    }
   ],
   "source": [
    "if __name__ == '__main__':\n",
    "    s ='MCMXCIV'\n",
    "    solution = Solution()\n",
    "    print(solution.romanToInt(s))"
   ]
  },
  {
   "cell_type": "code",
   "execution_count": null,
   "metadata": {},
   "outputs": [],
   "source": []
  }
 ],
 "metadata": {
  "kernelspec": {
   "display_name": "Python 3",
   "language": "python",
   "name": "python3"
  },
  "language_info": {
   "codemirror_mode": {
    "name": "ipython",
    "version": 3
   },
   "file_extension": ".py",
   "mimetype": "text/x-python",
   "name": "python",
   "nbconvert_exporter": "python",
   "pygments_lexer": "ipython3",
   "version": "3.7.6"
  }
 },
 "nbformat": 4,
 "nbformat_minor": 4
}
