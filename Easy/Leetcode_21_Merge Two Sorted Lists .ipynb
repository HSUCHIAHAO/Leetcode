{
 "cells": [
  {
   "cell_type": "code",
   "execution_count": 1,
   "metadata": {},
   "outputs": [],
   "source": [
    "class ListNode:\n",
    "    def __init__(self, x):\n",
    "        self.val = x\n",
    "        self.next = None\n",
    "\n",
    "class Solution:\n",
    "    def mergeTwoLists(self, l1: ListNode, l2: ListNode) -> ListNode:\n",
    "        \n",
    "        temp = cur = ListNode(0)\n",
    "        \n",
    "        while (l1 and l2):\n",
    "            if l1.val < l2.val:\n",
    "                cur.next = l1\n",
    "                l1 = l1.next\n",
    "            else:\n",
    "                cur.next = l2\n",
    "                l2 = l2.next\n",
    "            cur = cur.next\n",
    "        cur.next = l1 or l2\n",
    "        return temp.next"
   ]
  },
  {
   "cell_type": "code",
   "execution_count": 2,
   "metadata": {},
   "outputs": [
    {
     "name": "stdout",
     "output_type": "stream",
     "text": [
      "1 1 2 3 4 4 \n"
     ]
    }
   ],
   "source": [
    "# 创建链表\n",
    "def build_link(nums):\n",
    "    li = cur = ListNode(None)\n",
    "    for i in nums:\n",
    "        cur.next = ListNode(i)\n",
    "        cur = cur.next\n",
    "    return li.next\n",
    "\n",
    "nums1 = [1, 2, 4]\n",
    "nums2 = [1, 3, 4]\n",
    "l1 = build_link(nums1)\n",
    "l2 = build_link(nums2)\n",
    "\n",
    "\n",
    "# 合并两个有序链表\n",
    "test = Solution()\n",
    "res = test.mergeTwoLists(l1, l2)\n",
    "# 打印\n",
    "while res:\n",
    "    print(res.val, end=' ')\n",
    "    res = res.next\n",
    "print()"
   ]
  },
  {
   "cell_type": "code",
   "execution_count": null,
   "metadata": {},
   "outputs": [],
   "source": []
  }
 ],
 "metadata": {
  "kernelspec": {
   "display_name": "Python 3",
   "language": "python",
   "name": "python3"
  },
  "language_info": {
   "codemirror_mode": {
    "name": "ipython",
    "version": 3
   },
   "file_extension": ".py",
   "mimetype": "text/x-python",
   "name": "python",
   "nbconvert_exporter": "python",
   "pygments_lexer": "ipython3",
   "version": "3.7.6"
  }
 },
 "nbformat": 4,
 "nbformat_minor": 4
}
