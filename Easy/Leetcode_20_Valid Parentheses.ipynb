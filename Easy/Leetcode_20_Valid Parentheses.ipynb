{
 "cells": [
  {
   "cell_type": "code",
   "execution_count": 1,
   "metadata": {},
   "outputs": [],
   "source": [
    "class Solution(object):\n",
    "    def isValid(self, s):\n",
    "        stack = []\n",
    "        for c in s:\n",
    "            if c=='(' or c=='[' or c=='{':\n",
    "                stack.append(c)\n",
    "            elif c==')':\n",
    "                if stack and stack[-1]=='(':\n",
    "                    stack.pop()\n",
    "                else:\n",
    "                    stack.append(c)\n",
    "            elif c==']':\n",
    "                if stack and stack[-1]=='[':\n",
    "                    stack.pop()\n",
    "                else:\n",
    "                    stack.append(c)\n",
    "            elif c=='}':\n",
    "                if stack and stack[-1]=='{':\n",
    "                    stack.pop()\n",
    "                else:\n",
    "                    stack.append(c)\n",
    "        return len(stack)==0"
   ]
  },
  {
   "cell_type": "code",
   "execution_count": 4,
   "metadata": {},
   "outputs": [
    {
     "name": "stdout",
     "output_type": "stream",
     "text": [
      "False\n"
     ]
    }
   ],
   "source": [
    "if __name__ == '__main__':\n",
    "    s ='[]{}('\n",
    "    solution = Solution()\n",
    "    print(solution.isValid(s))"
   ]
  },
  {
   "cell_type": "code",
   "execution_count": null,
   "metadata": {},
   "outputs": [],
   "source": []
  }
 ],
 "metadata": {
  "kernelspec": {
   "display_name": "Python 3",
   "language": "python",
   "name": "python3"
  },
  "language_info": {
   "codemirror_mode": {
    "name": "ipython",
    "version": 3
   },
   "file_extension": ".py",
   "mimetype": "text/x-python",
   "name": "python",
   "nbconvert_exporter": "python",
   "pygments_lexer": "ipython3",
   "version": "3.7.6"
  }
 },
 "nbformat": 4,
 "nbformat_minor": 4
}
